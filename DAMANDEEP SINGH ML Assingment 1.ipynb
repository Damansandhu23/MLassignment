{
 "cells": [
  {
   "cell_type": "code",
   "execution_count": 13,
   "metadata": {},
   "outputs": [],
   "source": [
    "'''\n",
    "Q1. Create a program that asks the user to enter their name and their age. Print out a message addressed to them that tells them the year that they will turn 100 years old.\n",
    "Extras:\n",
    "1.\tAdd on to the previous program by asking the user for another number and printing out that many copies of the previous message.\n",
    "2.\tPrint out that many copies of the previous message on separate lines. (Hint: the string \"\\n is the same as pressing the ENTER button)\n",
    "'''\n"
   ]
  },
  {
   "cell_type": "code",
   "execution_count": 1,
   "metadata": {
    "scrolled": true
   },
   "outputs": [
    {
     "name": "stdout",
     "output_type": "stream",
     "text": [
      "Enter Your Name:Damandeep Singh\n",
      "Enter You Age:21\n",
      "Hello! Damandeep Singh, you know you will celebrate your centennial in 2100\n",
      "\n",
      "Enter the Number of times you want to print this message \t5\n",
      "\n",
      "Hello! Damandeep Singh, you know you will celebrate your centennial in 2100\n",
      "\n",
      "Hello! Damandeep Singh, you know you will celebrate your centennial in 2100\n",
      "\n",
      "Hello! Damandeep Singh, you know you will celebrate your centennial in 2100\n",
      "\n",
      "Hello! Damandeep Singh, you know you will celebrate your centennial in 2100\n",
      "\n",
      "Hello! Damandeep Singh, you know you will celebrate your centennial in 2100\n"
     ]
    }
   ],
   "source": [
    "def printName():  \n",
    "  name = input(\"Enter Your Name:\")\n",
    "  age = int(input(\"Enter You Age:\"))\n",
    "  age100 = 2021 + (100-age)\n",
    "  print(\"Hello! \"+name+ \", you know you will celebrate your centennial in \"+ str(age100)+\"\\n\")\n",
    "\n",
    "  # Extras\n",
    "  number = int(input(\"Enter the Number of times you want to print this message \\t\"))\n",
    "  for i in range(number):\n",
    "     print(\"\\nHello! \"+name+ \", you know you will celebrate your centennial in \"+ str(age100))\n",
    "  \n",
    "\n",
    "printName()"
   ]
  },
  {
   "cell_type": "code",
   "execution_count": null,
   "metadata": {},
   "outputs": [],
   "source": [
    "'''\n",
    "Q2. Take a list, say for example this one:\n",
    "\n",
    "a = [1, 1, 2, 3, 5, 8, 13, 21, 34, 55, 89]\n",
    "\n",
    "and write a program that prints out all the elements of the list that are less than 5. Extras:\n",
    "1.\tInstead of printing the elements one by one, make a new list that has all the elements less than 5 from this list in it and print out this new list.\n",
    "2.\tWrite this in one line of Python.\n",
    "\n",
    "3.\tAsk the user for a number and return a list that contains only elements from the original list a that are smaller than that number given by the user.\n",
    "'''"
   ]
  },
  {
   "cell_type": "code",
   "execution_count": 4,
   "metadata": {},
   "outputs": [
    {
     "name": "stdout",
     "output_type": "stream",
     "text": [
      "1\n",
      "1\n",
      "2\n",
      "3\n",
      "New List is [1, 1, 2, 3]\n",
      "New List in one line is [1, 1, 2, 3]\n",
      "Enter the number to find element smaller than the number 2\n",
      "Elements smaller than 2 are [1, 1]\n"
     ]
    }
   ],
   "source": [
    "a = [1, 1, 2, 3, 5, 8, 13, 21, 34, 55, 89]\n",
    "lst = []\n",
    "for i in a:\n",
    "    if i<5: \n",
    "        print(i)\n",
    "        lst.append(i)\n",
    "print(\"New List is {}\".format(lst))\n",
    "\n",
    "lst2 = [x for x in a if x<5]\n",
    "print(\"New List in one line is {}\".format(lst2))\n",
    "\n",
    "no = int(input(\"Enter the number to find element smaller than the number \"))\n",
    "lst3 = [x for x in lst if x<no]\n",
    "print(\"Elements smaller than {} are {}\".format(no, lst3))\n",
    "    "
   ]
  },
  {
   "cell_type": "code",
   "execution_count": null,
   "metadata": {},
   "outputs": [],
   "source": [
    "'''\n",
    "Q3. Write a program that asks the user how many Fibonacci numbers to generate and then generates them. Take this opportunity to think about how you can use functions. Make sure to ask the user to enter the number of numbers in the sequence to generate.(Hint: The Fibonacci seqence is a sequence of numbers where the next number\n",
    " \n",
    "in the sequence is the sum of the previous two numbers in the sequence. The sequence looks like this: 1, 1, 2, 3, 5, 8, 13, …)\n",
    "\n",
    "'''"
   ]
  },
  {
   "cell_type": "code",
   "execution_count": 7,
   "metadata": {},
   "outputs": [
    {
     "name": "stdout",
     "output_type": "stream",
     "text": [
      "Enter the number of numbers for seq. 5\n",
      "Fibonacci sequence: \n",
      "0\n",
      "1\n",
      "1\n",
      "2\n",
      "3\n"
     ]
    }
   ],
   "source": [
    "def fibo(n):   \n",
    "    if n <= 1:\n",
    "       return n\n",
    "    else:\n",
    "       return(fibo(n-1) + fibo(n-2))\n",
    "\n",
    "n_terms = int(input(\"Enter the number of numbers for seq. \"))\n",
    "print(\"Fibonacci sequence: \")\n",
    "for i in range(n_terms):\n",
    "  print(fibo(i))"
   ]
  },
  {
   "cell_type": "code",
   "execution_count": null,
   "metadata": {},
   "outputs": [],
   "source": [
    "'''\n",
    "Q4. Write a program (function!) that takes a list and returns a new list that contains all the elements of the first list minus all the duplicates.\n",
    "Extras:\n",
    "●\tWrite two different functions to do this - one using a loop and constructing a list, and another using sets\n",
    "\n",
    "'''"
   ]
  },
  {
   "cell_type": "code",
   "execution_count": 8,
   "metadata": {},
   "outputs": [
    {
     "name": "stdout",
     "output_type": "stream",
     "text": [
      "Without using Sets\n",
      "1\n",
      "2\n",
      "3\n",
      "5\n",
      "8\n",
      "13\n",
      "21\n",
      "34\n",
      "55\n",
      "89\n",
      "\n",
      "Using Sets\n",
      "1\n",
      "2\n",
      "3\n",
      "34\n",
      "5\n",
      "8\n",
      "13\n",
      "21\n",
      "55\n",
      "89\n"
     ]
    }
   ],
   "source": [
    "def lst_unique(lst):\n",
    "  unique = []\n",
    "  for l in lst:\n",
    "    if l not in unique:\n",
    "      unique.append(l)\n",
    "  for x in unique:\n",
    "    print(x)\n",
    "\n",
    "def using_set(lst):\n",
    "  list_set = set(lst)\n",
    "  unique_list = list(list_set)\n",
    "  for x in unique_list:\n",
    "    print(x)\n",
    "\n",
    "a = [1, 1, 2, 3, 5, 8, 13, 21, 34, 55, 89, 21, 89]\n",
    "print(\"Without using Sets\")\n",
    "lst_unique(a)\n",
    "\n",
    "print(\"\\nUsing Sets\")\n",
    "using_set(a)"
   ]
  },
  {
   "cell_type": "code",
   "execution_count": null,
   "metadata": {},
   "outputs": [],
   "source": [
    "'''\n",
    "Q5. Ask the user for a number and determine whether the number is prime or not. (For those who have forgotten, a prime number is a number that has no divisors.). Use functions\n",
    "'''"
   ]
  },
  {
   "cell_type": "code",
   "execution_count": 9,
   "metadata": {},
   "outputs": [
    {
     "name": "stdout",
     "output_type": "stream",
     "text": [
      "Enter Number you want to check \t23\n",
      "Number is Prime\n"
     ]
    }
   ],
   "source": [
    "def isPrime():\n",
    "  num = int(input(\"Enter Number you want to check \\t\"))\n",
    "  flag = 1\n",
    "  for i in range(2, int(num/2)):\n",
    "    if(num%i == 0):\n",
    "      flag = 0\n",
    "      break\n",
    "  if(flag==0):\n",
    "    print(\"Number is not Prime\")\n",
    "  else:\n",
    "    print(\"Number is Prime\")\n",
    "\n",
    "isPrime()"
   ]
  }
 ],
 "metadata": {
  "kernelspec": {
   "display_name": "Python 3",
   "language": "python",
   "name": "python3"
  },
  "language_info": {
   "codemirror_mode": {
    "name": "ipython",
    "version": 3
   },
   "file_extension": ".py",
   "mimetype": "text/x-python",
   "name": "python",
   "nbconvert_exporter": "python",
   "pygments_lexer": "ipython3",
   "version": "3.7.4"
  }
 },
 "nbformat": 4,
 "nbformat_minor": 2
}
